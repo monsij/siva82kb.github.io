{
 "cells": [
  {
   "cell_type": "markdown",
   "metadata": {},
   "source": [
    "## Input-Output Relationship of a Linear Time-Varying System."
   ]
  },
  {
   "cell_type": "markdown",
   "metadata": {},
   "source": [
    "Most of us that have studied signal processing or control theory would be familiar with the input-output relationship of linear time-invariant (LTI) systems. If $H$ is an LTI system with impulse response $h(t)$, then the output of the system for any arbitrary input is given by **convolution integral**, \n",
    "$$ y(t) = \\int_{-\\infty}^{\\infty} h(\\tau) x(t - \\tau) d\\tau \\,, \\quad t \\in \\mathbb{R}$$\n",
    "\n",
    "The same idea can be applied to a discrete-time system with impulse response $h[n]$. The output in this case is given by the **convolution sum**,\n",
    "$$ y[n] = \\sum_{k=\\infty}^{\\infty}h[k]x[n - k] \\,, \\quad n \\in \\mathbb{Z} $$\n",
    "\n",
    "The fact that input-output (IO) relationships for LIT systems can be determined through convolution, also leads to popular transform-based representation, analysis and design of LIT systems.\n",
    "\n",
    "Linear-time varying (LTV) systems on the other hand cannot be understood through the convolution integral or the sum as shown above. The behavior of a LTV system depends explicity on time, and its IO behavior changes with time. If $H$ is a LTV system, then \n",
    "if $H\\left\\{ x(t)\\right\\} = y(t)$, then $H\\left\\{x(t - t_0)\\right\\} \\neq y(t - t_0)$, i.e. time-shifted inputs do not produce time-shifted outputs.\n",
    "\n",
    "A LTV system can be viewed as a system with impulse response that is  time dependent, i.e. the output of the system to an impulse input $\\delta(t - s)$ depends on both $t$ and $s$.\n",
    "$$ \\phi(t, s) = H\\left\\{ \\delta(t - s) \\right\\}, \\quad t, s \\in \\mathbb{R} $$\n",
    "where, $t$ is time, and $s$ is the time instant at which the impulse is applied. In the case of an LTI system, the response to $\\delta(t - s)$ is $h(t - s)$; the output only depends on a single argument $t - s$."
   ]
  },
  {
   "cell_type": "markdown",
   "metadata": {},
   "source": [
    "In LTI systems, $h(t)$ acts as a weighting function that determines how the past, present and future input values are combined to produce the present output; this is the operation performed by the covolution operation. $\\phi(t, s)$ also plays a similar role. The output at a given time $t$ for an LTV system, will weight the past, present and future values according to the function $\\phi(t, s)$. In order to find out the output of an LTV system for an arbitrary input $x(t)$, lets start with the following,\n",
    "$$ x(t) = \\int_{-\\infty}^{\\infty} x(\\tau) \\delta(t - \\tau) d\\tau $$"
   ]
  },
  {
   "cell_type": "markdown",
   "metadata": {},
   "source": [
    "The output of the system $H$ to the input $\\delta(t - \\tau)$ is given by $h(\\tau, t)$. Thus, $y(t)$ can be obtained as the following,\n",
    "$$ y(t) = H\\left\\{ \\int_{-\\infty}^{\\infty} x(\\tau) \\delta(t - \\tau) d\\tau \\right\\} = \\int_{-\\infty}^{\\infty} x(\\tau) H\\left\\{ \\delta(t - \\tau) \\right\\}d\\tau $$\n",
    "$$ y(t) = \\int_{-\\infty}^{\\infty} x(\\tau) h(\\tau, t) d\\tau $$"
   ]
  },
  {
   "cell_type": "markdown",
   "metadata": {},
   "source": [
    "In the above equation the input at time $\\tau$ is weighted by the factor $h(\\tau, t)$ to determine the output of the system at time $t$.\n",
    "$$\n",
    "\\phi(\\tau, t) \\longrightarrow \\begin{cases}\n",
    "\\text{Weight for past input} & \\tau < t \\\\\n",
    "\\text{Weight for the present input} & \\tau = t \\\\\n",
    "\\text{Weight for the future input} & \\tau > t \\\\\n",
    "\\end{cases}\n",
    "$$\n",
    "\n",
    "In the case of a causal LTV system, we have $h(\\tau, t) = 0$ for $\\tau > t$. "
   ]
  },
  {
   "cell_type": "markdown",
   "metadata": {},
   "source": [
    "In the case of a discrete-time LTV system, we could express the IO relatioship similarly,\n",
    "$$ y[n] = \\sum_{k=-\\infty}^{\\infty} x[k] h[k, n] $$\n",
    "where, $h[k, n]$ is the output of the LTV system to an impulse $\\delta[n - k]$."
   ]
  },
  {
   "cell_type": "code",
   "execution_count": 17,
   "metadata": {},
   "outputs": [
    {
     "data": {
      "text/html": [
       "<link href='http://fonts.googleapis.com/css?family=Fenix' rel='stylesheet' type='text/css'>\n",
       "<link href='http://fonts.googleapis.com/css?family=Alegreya+Sans:100,300,400,500,700,800,900,100italic,300italic,400italic,500italic,700italic,800italic,900italic' rel='stylesheet' type='text/css'>\n",
       "<link href='http://fonts.googleapis.com/css?family=Poiret+One' rel='stylesheet' type='text/css'>\n",
       "<link href='http://fonts.googleapis.com/css?family=Source+Code+Pro:300,400' rel='stylesheet' type='text/css'>\n",
       "\n",
       "<style>\n",
       "    @font-face {\n",
       "        font-family: \"Computer Modern\";\n",
       "        src: url('http://mirrors.ctan.org/fonts/cm-unicode/fonts/otf/cmunss.otf');\n",
       "    }\n",
       "\n",
       "    div.cell{\n",
       "        width:600px;\n",
       "        margin-left:20% !important;\n",
       "        margin-right:auto;\n",
       "    }\n",
       "    h1 {        \n",
       "        font-family: \"Alegreya Sans\", \"Courier 10 Pitch\", Courier, Helvetica, serif;\n",
       "    }\n",
       "    h4{\n",
       "        font-family: \"Alegreya Sans\", \"Courier 10 Pitch\", Helvetica, serif;\n",
       "        margin-top:12px;\n",
       "        margin-bottom: 3px;\n",
       "    }\n",
       "\n",
       "    div.text_cell_render{\n",
       "        font-family: \"Alegreya Sans\", \"Courier 10 Pitch\", Courier, \"Helvetica Neue\", Arial, Helvetica, Geneva, sans-serif;\n",
       "        line-height: 160%;\n",
       "        font-size: 120%;\n",
       "        width:600px;\n",
       "        margin-left:auto;\n",
       "        margin-right:auto;\n",
       "    }\n",
       "\n",
       "    .CodeMirror{\n",
       "            font-family: \"Source Code Pro\", source-code-pro, Consolas, monospace;\n",
       "    }\n",
       "    \n",
       "    .prompt{\n",
       "        display: None;\n",
       "    }\n",
       "\n",
       "    .text_cell_render h5 {\n",
       "        font-family: \"Alegreya Sans\", \"Courier 10 Pitch\";\n",
       "        font-weight: 300;\n",
       "        font-size: 16pt;\n",
       "        color: #4057A1;\n",
       "        font-style: italic;\n",
       "        margin-bottom: .5em;\n",
       "        margin-top: 0.5em;\n",
       "        display: block;\n",
       "    }\n",
       "    \n",
       "    .MathJax {\n",
       "        color: #000;\n",
       "    }\n",
       "\n",
       "    .warning{\n",
       "        color: rgb( 240, 20, 20 )\n",
       "        }  \n",
       "        \n",
       "</style>\n",
       "<script>\n",
       "    MathJax.Hub.Config({\n",
       "                        TeX: {\n",
       "                           extensions: [\"AMSmath.js\"],\n",
       "                           equationNumbers: { autoNumber: \"AMS\", useLabelIds: true}\n",
       "                           },\n",
       "                tex2jax: {\n",
       "                    inlineMath: [ ['$','$'], [\"\\\\(\",\"\\\\)\"] ],\n",
       "                    displayMath: [ ['$$','$$'], [\"\\\\[\",\"\\\\]\"] ]\n",
       "                },\n",
       "                displayAlign: 'center', // Change this to 'center' to center equations.\n",
       "                \"HTML-CSS\": {\n",
       "                    styles: {'.MathJax_Display': {\"margin\": 4}}\n",
       "                }\n",
       "        });\n",
       "</script>"
      ],
      "text/plain": [
       "<IPython.core.display.HTML object>"
      ]
     },
     "execution_count": 17,
     "metadata": {},
     "output_type": "execute_result"
    }
   ],
   "source": [
    "from IPython.core.display import HTML\n",
    "def css_styling():\n",
    "    styles = open(\"styles/custom.css\", \"r\").read()\n",
    "    return HTML(styles)\n",
    "css_styling()"
   ]
  }
 ],
 "metadata": {
  "kernelspec": {
   "display_name": "Python 2",
   "language": "python",
   "name": "python2"
  },
  "language_info": {
   "codemirror_mode": {
    "name": "ipython",
    "version": 2
   },
   "file_extension": ".py",
   "mimetype": "text/x-python",
   "name": "python",
   "nbconvert_exporter": "python",
   "pygments_lexer": "ipython2",
   "version": "2.7.15"
  }
 },
 "nbformat": 4,
 "nbformat_minor": 2
}
